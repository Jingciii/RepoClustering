{
 "cells": [
  {
   "cell_type": "code",
   "execution_count": 304,
   "metadata": {},
   "outputs": [],
   "source": [
    "import pandas as pd\n",
    "import numpy as np\n",
    "import re\n",
    "from sklearn.feature_extraction.text import TfidfVectorizer\n",
    "from sklearn.decomposition import NMF\n",
    "from sklearn.feature_extraction.text import CountVectorizer\n",
    "from sklearn.feature_extraction.text import TfidfTransformer\n",
    "from sklearn.cluster import KMeans\n",
    "from sklearn.decomposition import TruncatedSVD\n",
    "from sklearn.decomposition import LatentDirichletAllocation\n",
    "from sklearn.externals import joblib\n",
    "from sklearn.metrics.pairwise import cosine_similarity\n",
    "from sklearn.manifold import MDS\n",
    "\n",
    "\n",
    "from gensim import corpora\n",
    "from gensim.models import LsiModel\n",
    "from gensim.models.coherencemodel import CoherenceModel\n",
    "\n",
    "from nltk.tokenize import RegexpTokenizer\n",
    "from nltk.corpus import stopwords\n",
    "from nltk.stem.porter import PorterStemmer\n",
    "\n",
    "from collections import Counter\n",
    "\n",
    "import matplotlib.pyplot as plt\n",
    "% matplotlib inline"
   ]
  },
  {
   "cell_type": "code",
   "execution_count": 112,
   "metadata": {},
   "outputs": [],
   "source": [
    "ps = nltk.PorterStemmer()\n",
    "en_stop = set(stopwords.words('english'))"
   ]
  },
  {
   "cell_type": "code",
   "execution_count": 2,
   "metadata": {},
   "outputs": [],
   "source": [
    "NAME_BREAKUP_RE = re.compile(r\"[^a-zA-Z]+\")\n",
    "\n",
    "def extract_names(token):\n",
    "\ttoken = token.strip()\n",
    "\tprev_p = [\"\"]\n",
    "\n",
    "\tdef ret(name):\n",
    "\t\tr = name.lower()\n",
    "\t\tif len(name) >= 3:\n",
    "\t\t\tyield r\n",
    "\t\t\tif prev_p[0]:\n",
    "\t\t\t\tyield prev_p[0] + r\n",
    "\t\t\t\tprev_p[0] = \"\"\n",
    "\t\telse:\n",
    "\t\t\tprev_p[0] = r\n",
    "\n",
    "\tfor part in NAME_BREAKUP_RE.split(token):\n",
    "\t\tif not part:\n",
    "\t\t\tcontinue\n",
    "\t\tprev = part[0]\n",
    "\t\tpos = 0\n",
    "\t\tfor i in range(1, len(part)):\n",
    "\t\t\tthis = part[i]\n",
    "\t\t\tif prev.islower() and this.isupper():\n",
    "\t\t\t\tyield from ret(part[pos:i])\n",
    "\t\t\t\tpos = i\n",
    "\t\t\telif prev.isupper() and this.islower():\n",
    "\t\t\t\tif 0 < i - 1 - pos <= 3:\n",
    "\t\t\t\t\tyield from ret(part[pos:i - 1])\n",
    "\t\t\t\t\tpos = i - 1\n",
    "\t\t\t\telif i - 1 > pos:\n",
    "\t\t\t\t\tyield from ret(part[pos:i])\n",
    "\t\t\t\t\tpos = i\n",
    "\t\t\tprev = this\n",
    "\t\tlast = part[pos:]\n",
    "\t\tif last:\n",
    "\t\t\tyield from ret(last)"
   ]
  },
  {
   "cell_type": "code",
   "execution_count": 3,
   "metadata": {},
   "outputs": [
    {
     "data": {
      "text/html": [
       "<div>\n",
       "<style scoped>\n",
       "    .dataframe tbody tr th:only-of-type {\n",
       "        vertical-align: middle;\n",
       "    }\n",
       "\n",
       "    .dataframe tbody tr th {\n",
       "        vertical-align: top;\n",
       "    }\n",
       "\n",
       "    .dataframe thead th {\n",
       "        text-align: right;\n",
       "    }\n",
       "</style>\n",
       "<table border=\"1\" class=\"dataframe\">\n",
       "  <thead>\n",
       "    <tr style=\"text-align: right;\">\n",
       "      <th></th>\n",
       "      <th>0</th>\n",
       "      <th>1</th>\n",
       "      <th>2</th>\n",
       "    </tr>\n",
       "  </thead>\n",
       "  <tbody>\n",
       "    <tr>\n",
       "      <th>0</th>\n",
       "      <td>google/web-starter-kit</td>\n",
       "      <td>mdl demo mdl layout header row mdl demo mdl la...</td>\n",
       "      <td>copyright google inc all rights reserved licen...</td>\n",
       "    </tr>\n",
       "    <tr>\n",
       "      <th>1</th>\n",
       "      <td>JacksonTian/fks</td>\n",
       "      <td>node fill stroke stroke width node node hover ...</td>\n",
       "      <td>dendrogram tooltip doctype html update the too...</td>\n",
       "    </tr>\n",
       "    <tr>\n",
       "      <th>2</th>\n",
       "      <td>nfl/react-helmet</td>\n",
       "      <td>module exports config normalization browser na...</td>\n",
       "      <td>karma configuration normal karma configuration...</td>\n",
       "    </tr>\n",
       "    <tr>\n",
       "      <th>3</th>\n",
       "      <td>domnikl/DesignPatternsPHP</td>\n",
       "      <td>sphinxopts sphinxbuild paper builddir error th...</td>\n",
       "      <td>makefile for sphinx documentation you can set ...</td>\n",
       "    </tr>\n",
       "    <tr>\n",
       "      <th>4</th>\n",
       "      <td>petkaantonov/bluebird</td>\n",
       "      <td>mocha helvetica arial mocha mocha mocha mocha ...</td>\n",
       "      <td>approximate for browsers not supporting calc p...</td>\n",
       "    </tr>\n",
       "    <tr>\n",
       "      <th>5</th>\n",
       "      <td>eslint/eslint</td>\n",
       "      <td>arial helvetica overview calc clr clr after la...</td>\n",
       "      <td>doctype html doctype html test framework sourc...</td>\n",
       "    </tr>\n",
       "    <tr>\n",
       "      <th>6</th>\n",
       "      <td>vuejs/vuex</td>\n",
       "      <td>require path require zlib require uglify requi...</td>\n",
       "      <td>eslint disable camelcase eslint enable camelca...</td>\n",
       "    </tr>\n",
       "    <tr>\n",
       "      <th>7</th>\n",
       "      <td>wekan/wekan</td>\n",
       "      <td>activity title space between activities activi...</td>\n",
       "      <td>from https github com tobiasahlin spin kit usa...</td>\n",
       "    </tr>\n",
       "    <tr>\n",
       "      <th>8</th>\n",
       "      <td>VerbalExpressions/JSVerbalExpressions</td>\n",
       "      <td>module exports grunt config grunt grunt init c...</td>\n",
       "      <td>file verbal expressions java script library ve...</td>\n",
       "    </tr>\n",
       "    <tr>\n",
       "      <th>9</th>\n",
       "      <td>yangyangwithgnu/hardseed</td>\n",
       "      <td>project set set set set add executable src lis...</td>\n",
       "      <td>linux debug set cmake cxx compiler clang set c...</td>\n",
       "    </tr>\n",
       "    <tr>\n",
       "      <th>10</th>\n",
       "      <td>sebastianbergmann/phpunit</td>\n",
       "      <td>strict types strict types header php fixer csf...</td>\n",
       "      <td>php php php php php php php this file part isp...</td>\n",
       "    </tr>\n",
       "    <tr>\n",
       "      <th>11</th>\n",
       "      <td>foreverjs/forever</td>\n",
       "      <td>require cli start require path require events ...</td>\n",
       "      <td>usr bin env node forever top jstop level inclu...</td>\n",
       "    </tr>\n",
       "    <tr>\n",
       "      <th>12</th>\n",
       "      <td>Tencent/VasSonic</td>\n",
       "      <td>arial helvetica link visited hover focus activ...</td>\n",
       "      <td>javadoc style sheet overall document style doc...</td>\n",
       "    </tr>\n",
       "    <tr>\n",
       "      <th>13</th>\n",
       "      <td>sass/sass</td>\n",
       "      <td>pear arial page page header page header conten...</td>\n",
       "      <td>line more templates more sass line more templa...</td>\n",
       "    </tr>\n",
       "    <tr>\n",
       "      <th>14</th>\n",
       "      <td>google/deepdream</td>\n",
       "      <td>NaN</td>\n",
       "      <td>NaN</td>\n",
       "    </tr>\n",
       "    <tr>\n",
       "      <th>15</th>\n",
       "      <td>apache/incubator-dubbo</td>\n",
       "      <td>org apache dubbo rpc cluster org apache dubbo ...</td>\n",
       "      <td>licensed the tothe apache software foundation ...</td>\n",
       "    </tr>\n",
       "    <tr>\n",
       "      <th>16</th>\n",
       "      <td>eriklindernoren/ML-From-Scratch</td>\n",
       "      <td>neural network neural network numpy sigmoid ca...</td>\n",
       "      <td>collection activation ofactivation functions r...</td>\n",
       "    </tr>\n",
       "    <tr>\n",
       "      <th>17</th>\n",
       "      <td>vapor/vapor</td>\n",
       "      <td>hover wrapper translate logo url main main mai...</td>\n",
       "      <td>doctype html mark mark mark mark todo mark mar...</td>\n",
       "    </tr>\n",
       "    <tr>\n",
       "      <th>18</th>\n",
       "      <td>jakevdp/PythonDataScienceHandbook</td>\n",
       "      <td>before before icon stackoverflow before icon t...</td>\n",
       "      <td>copied from https github com porterjamesj crow...</td>\n",
       "    </tr>\n",
       "    <tr>\n",
       "      <th>19</th>\n",
       "      <td>thoughtbot/paperclip</td>\n",
       "      <td>rails integration configure defaults for all a...</td>\n",
       "      <td>hinting development atdevelopment dependencies...</td>\n",
       "    </tr>\n",
       "    <tr>\n",
       "      <th>20</th>\n",
       "      <td>Microsoft/MS-DOS</td>\n",
       "      <td>NaN</td>\n",
       "      <td>NaN</td>\n",
       "    </tr>\n",
       "    <tr>\n",
       "      <th>21</th>\n",
       "      <td>googlesamples/android-architecture-components</td>\n",
       "      <td>com example android observability persistence ...</td>\n",
       "      <td>copyright the cthe android open source project...</td>\n",
       "    </tr>\n",
       "    <tr>\n",
       "      <th>22</th>\n",
       "      <td>tj/git-extras</td>\n",
       "      <td>prefix binprefix sysconfdir bins mans man bins...</td>\n",
       "      <td>ifeq free osfree bsd else endif libraries used...</td>\n",
       "    </tr>\n",
       "    <tr>\n",
       "      <th>23</th>\n",
       "      <td>shadowsocks/shadowsocks-windows</td>\n",
       "      <td>NaN</td>\n",
       "      <td>NaN</td>\n",
       "    </tr>\n",
       "    <tr>\n",
       "      <th>24</th>\n",
       "      <td>TeamStuQ/skill-map</td>\n",
       "      <td>helvetica arial heiti stheiti break all hide r...</td>\n",
       "      <td>important source mapping url style css map doc...</td>\n",
       "    </tr>\n",
       "    <tr>\n",
       "      <th>25</th>\n",
       "      <td>ionic-team/ionicons</td>\n",
       "      <td>host contain icon inner fill stroke host flip ...</td>\n",
       "      <td>important icon rtl icon sizes important import...</td>\n",
       "    </tr>\n",
       "    <tr>\n",
       "      <th>26</th>\n",
       "      <td>facebook/react-devtools</td>\n",
       "      <td>list list item name value row name name custom...</td>\n",
       "      <td>doctype doctype doctype html doctype html doct...</td>\n",
       "    </tr>\n",
       "    <tr>\n",
       "      <th>27</th>\n",
       "      <td>sinatra/sinatra</td>\n",
       "      <td>sass fff main white colour sass scss alert yie...</td>\n",
       "      <td>why use bundler well not all development depen...</td>\n",
       "    </tr>\n",
       "    <tr>\n",
       "      <th>28</th>\n",
       "      <td>HelloZeroNet/ZeroNet</td>\n",
       "      <td>type pytype object reader type type pytype obj...</td>\n",
       "      <td>include python include maxminddb include struc...</td>\n",
       "    </tr>\n",
       "    <tr>\n",
       "      <th>29</th>\n",
       "      <td>getinsomnia/insomnia</td>\n",
       "      <td>curl hnd curl easy init curl easy setopt hnd c...</td>\n",
       "      <td>important important important important import...</td>\n",
       "    </tr>\n",
       "    <tr>\n",
       "      <th>...</th>\n",
       "      <td>...</td>\n",
       "      <td>...</td>\n",
       "      <td>...</td>\n",
       "    </tr>\n",
       "    <tr>\n",
       "      <th>2551</th>\n",
       "      <td>dorimanx/exfat-nofuse</td>\n",
       "      <td>semaphore sem zsem init fsinit ffs init shutdo...</td>\n",
       "      <td>copyright samsung csamsung electronics ltd col...</td>\n",
       "    </tr>\n",
       "    <tr>\n",
       "      <th>2552</th>\n",
       "      <td>guoguibing/librec</td>\n",
       "      <td>net librec annotation java lang annotation doc...</td>\n",
       "      <td>librec waring annotation author keqiang wang c...</td>\n",
       "    </tr>\n",
       "    <tr>\n",
       "      <th>2553</th>\n",
       "      <td>fzaninotto/Faker</td>\n",
       "      <td>vendor autoload php phony sniff sniff vendor a...</td>\n",
       "      <td>php move first four digits end toend and set c...</td>\n",
       "    </tr>\n",
       "    <tr>\n",
       "      <th>2554</th>\n",
       "      <td>googlecartographer/cartographer</td>\n",
       "      <td>cmake minimum required project set set set set...</td>\n",
       "      <td>copyright the cartographer authors licensed un...</td>\n",
       "    </tr>\n",
       "    <tr>\n",
       "      <th>2555</th>\n",
       "      <td>telegeography/www.submarinecablemap.com</td>\n",
       "      <td>helvetica arial map map container side bar sea...</td>\n",
       "      <td>important menu uimenu menu uimenu item menu ui...</td>\n",
       "    </tr>\n",
       "    <tr>\n",
       "      <th>2556</th>\n",
       "      <td>sahat/hackathon-starter</td>\n",
       "      <td>navbar nav navbar navbar brand navbar toggler ...</td>\n",
       "      <td>solves bootstrap issue https github com twbs b...</td>\n",
       "    </tr>\n",
       "    <tr>\n",
       "      <th>2557</th>\n",
       "      <td>wmui/essay</td>\n",
       "      <td>before after apple system blink mac system fon...</td>\n",
       "      <td>reset global important important important imp...</td>\n",
       "    </tr>\n",
       "    <tr>\n",
       "      <th>2558</th>\n",
       "      <td>bats-core/bats-core</td>\n",
       "      <td>NaN</td>\n",
       "      <td>NaN</td>\n",
       "    </tr>\n",
       "    <tr>\n",
       "      <th>2559</th>\n",
       "      <td>spotify/luigi</td>\n",
       "      <td>node circle stroke stroke width link stroke st...</td>\n",
       "      <td>rounded corners uncomment for shadow rules col...</td>\n",
       "    </tr>\n",
       "    <tr>\n",
       "      <th>2560</th>\n",
       "      <td>andremm/typedlua</td>\n",
       "      <td>abort error onerror loadstring loadstring load...</td>\n",
       "      <td>usr bin env lua for the module loader expected...</td>\n",
       "    </tr>\n",
       "    <tr>\n",
       "      <th>2561</th>\n",
       "      <td>conda/conda</td>\n",
       "      <td>pytest exe python exe home python major versio...</td>\n",
       "      <td>basetemp that sothat our environments are crea...</td>\n",
       "    </tr>\n",
       "    <tr>\n",
       "      <th>2562</th>\n",
       "      <td>select2/select2</td>\n",
       "      <td>select dropdown select results select results ...</td>\n",
       "      <td>important important important important import...</td>\n",
       "    </tr>\n",
       "    <tr>\n",
       "      <th>2563</th>\n",
       "      <td>ueberauth/ueberauth</td>\n",
       "      <td>mix config config ueberauth support simple cal...</td>\n",
       "      <td>given strategy astrategy passed providers aspr...</td>\n",
       "    </tr>\n",
       "    <tr>\n",
       "      <th>2564</th>\n",
       "      <td>aburgh/Disk-Arbitrator</td>\n",
       "      <td>markdown strict warnings digest vars version e...</td>\n",
       "      <td>copyright apple capple computer inc all rights...</td>\n",
       "    </tr>\n",
       "    <tr>\n",
       "      <th>2565</th>\n",
       "      <td>DMOJ/judge</td>\n",
       "      <td>isline iswhite check standard judge jlen proce...</td>\n",
       "      <td>include python define unreferenced parameter d...</td>\n",
       "    </tr>\n",
       "    <tr>\n",
       "      <th>2566</th>\n",
       "      <td>ehazlett/interlock</td>\n",
       "      <td>client log api version get tls config cert cac...</td>\n",
       "      <td>tls config check environment for docker client...</td>\n",
       "    </tr>\n",
       "    <tr>\n",
       "      <th>2567</th>\n",
       "      <td>bastillion-io/Bastillion</td>\n",
       "      <td>container navbar container navbar note navbar ...</td>\n",
       "      <td>important copyright the cthe xterm authors jsa...</td>\n",
       "    </tr>\n",
       "    <tr>\n",
       "      <th>2568</th>\n",
       "      <td>mitdbg/modeldb</td>\n",
       "      <td>perspective mdperspective perspective mdperspe...</td>\n",
       "      <td>general styles for the modal styles for the ht...</td>\n",
       "    </tr>\n",
       "    <tr>\n",
       "      <th>2569</th>\n",
       "      <td>huwb/crest-oceanrender</td>\n",
       "      <td>struct fistruct fibitmap data struct fistruct ...</td>\n",
       "      <td>free image design and implementation floris va...</td>\n",
       "    </tr>\n",
       "    <tr>\n",
       "      <th>2570</th>\n",
       "      <td>Datawalke/Coordino</td>\n",
       "      <td>verdana helvetica arial hover helvetica arial ...</td>\n",
       "      <td>svn file cake idcake generic css gwoo zgwoo ph...</td>\n",
       "    </tr>\n",
       "    <tr>\n",
       "      <th>2571</th>\n",
       "      <td>KittyKatt/screenFetch</td>\n",
       "      <td>NaN</td>\n",
       "      <td>NaN</td>\n",
       "    </tr>\n",
       "    <tr>\n",
       "      <th>2572</th>\n",
       "      <td>chaozh/MIT-6.824</td>\n",
       "      <td>raftkv clerk servers labrpc client end nrand m...</td>\n",
       "      <td>you will have modify tomodify this struct you ...</td>\n",
       "    </tr>\n",
       "    <tr>\n",
       "      <th>2573</th>\n",
       "      <td>wangshub/wechat_jump_game</td>\n",
       "      <td>run run sys sys version info major unicode str...</td>\n",
       "      <td>coding utf coding utf copyright bei cbei town ...</td>\n",
       "    </tr>\n",
       "    <tr>\n",
       "      <th>2574</th>\n",
       "      <td>facebook/fboss</td>\n",
       "      <td>prefix prefix facebook network address ipaddre...</td>\n",
       "      <td>copyright present cpresent facebook inc all ri...</td>\n",
       "    </tr>\n",
       "    <tr>\n",
       "      <th>2575</th>\n",
       "      <td>jepsen-io/jepsen</td>\n",
       "      <td>main argc argv argc fprintf stderr argv timeva...</td>\n",
       "      <td>include stdio include sys time include stdlib ...</td>\n",
       "    </tr>\n",
       "    <tr>\n",
       "      <th>2576</th>\n",
       "      <td>rjeczalik/notify</td>\n",
       "      <td>notify dbgprint dbgprintf dbgcallstack max ini...</td>\n",
       "      <td>copyright the cthe notify authors all rights r...</td>\n",
       "    </tr>\n",
       "    <tr>\n",
       "      <th>2577</th>\n",
       "      <td>BoostIO/Boostnote</td>\n",
       "      <td>code editor typo spellcheck select color picke...</td>\n",
       "      <td>support for all web kit browsers support for s...</td>\n",
       "    </tr>\n",
       "    <tr>\n",
       "      <th>2578</th>\n",
       "      <td>facebookarchive/AsyncDisplayKit</td>\n",
       "      <td>common preprocessor flags common lang preproce...</td>\n",
       "      <td>defines most text kit components are not publi...</td>\n",
       "    </tr>\n",
       "    <tr>\n",
       "      <th>2579</th>\n",
       "      <td>vuetifyjs/vuetify</td>\n",
       "      <td>alert valert fff alert valert icon icon vicon ...</td>\n",
       "      <td>themes base spec psuedo content sizes icons ty...</td>\n",
       "    </tr>\n",
       "    <tr>\n",
       "      <th>2580</th>\n",
       "      <td>tjoudeh/AspNetIdentity.WebApi</td>\n",
       "      <td>NaN</td>\n",
       "      <td>NaN</td>\n",
       "    </tr>\n",
       "  </tbody>\n",
       "</table>\n",
       "<p>2581 rows × 3 columns</p>\n",
       "</div>"
      ],
      "text/plain": [
       "                                                  0  \\\n",
       "0                            google/web-starter-kit   \n",
       "1                                   JacksonTian/fks   \n",
       "2                                  nfl/react-helmet   \n",
       "3                         domnikl/DesignPatternsPHP   \n",
       "4                             petkaantonov/bluebird   \n",
       "5                                     eslint/eslint   \n",
       "6                                        vuejs/vuex   \n",
       "7                                       wekan/wekan   \n",
       "8             VerbalExpressions/JSVerbalExpressions   \n",
       "9                          yangyangwithgnu/hardseed   \n",
       "10                        sebastianbergmann/phpunit   \n",
       "11                                foreverjs/forever   \n",
       "12                                 Tencent/VasSonic   \n",
       "13                                        sass/sass   \n",
       "14                                 google/deepdream   \n",
       "15                           apache/incubator-dubbo   \n",
       "16                  eriklindernoren/ML-From-Scratch   \n",
       "17                                      vapor/vapor   \n",
       "18                jakevdp/PythonDataScienceHandbook   \n",
       "19                             thoughtbot/paperclip   \n",
       "20                                 Microsoft/MS-DOS   \n",
       "21    googlesamples/android-architecture-components   \n",
       "22                                    tj/git-extras   \n",
       "23                  shadowsocks/shadowsocks-windows   \n",
       "24                               TeamStuQ/skill-map   \n",
       "25                              ionic-team/ionicons   \n",
       "26                          facebook/react-devtools   \n",
       "27                                  sinatra/sinatra   \n",
       "28                             HelloZeroNet/ZeroNet   \n",
       "29                             getinsomnia/insomnia   \n",
       "...                                             ...   \n",
       "2551                          dorimanx/exfat-nofuse   \n",
       "2552                              guoguibing/librec   \n",
       "2553                               fzaninotto/Faker   \n",
       "2554                googlecartographer/cartographer   \n",
       "2555        telegeography/www.submarinecablemap.com   \n",
       "2556                        sahat/hackathon-starter   \n",
       "2557                                     wmui/essay   \n",
       "2558                            bats-core/bats-core   \n",
       "2559                                  spotify/luigi   \n",
       "2560                               andremm/typedlua   \n",
       "2561                                    conda/conda   \n",
       "2562                                select2/select2   \n",
       "2563                            ueberauth/ueberauth   \n",
       "2564                         aburgh/Disk-Arbitrator   \n",
       "2565                                     DMOJ/judge   \n",
       "2566                             ehazlett/interlock   \n",
       "2567                       bastillion-io/Bastillion   \n",
       "2568                                 mitdbg/modeldb   \n",
       "2569                         huwb/crest-oceanrender   \n",
       "2570                             Datawalke/Coordino   \n",
       "2571                          KittyKatt/screenFetch   \n",
       "2572                               chaozh/MIT-6.824   \n",
       "2573                      wangshub/wechat_jump_game   \n",
       "2574                                 facebook/fboss   \n",
       "2575                               jepsen-io/jepsen   \n",
       "2576                               rjeczalik/notify   \n",
       "2577                              BoostIO/Boostnote   \n",
       "2578                facebookarchive/AsyncDisplayKit   \n",
       "2579                              vuetifyjs/vuetify   \n",
       "2580                  tjoudeh/AspNetIdentity.WebApi   \n",
       "\n",
       "                                                      1  \\\n",
       "0     mdl demo mdl layout header row mdl demo mdl la...   \n",
       "1     node fill stroke stroke width node node hover ...   \n",
       "2     module exports config normalization browser na...   \n",
       "3     sphinxopts sphinxbuild paper builddir error th...   \n",
       "4     mocha helvetica arial mocha mocha mocha mocha ...   \n",
       "5     arial helvetica overview calc clr clr after la...   \n",
       "6     require path require zlib require uglify requi...   \n",
       "7     activity title space between activities activi...   \n",
       "8     module exports grunt config grunt grunt init c...   \n",
       "9     project set set set set add executable src lis...   \n",
       "10    strict types strict types header php fixer csf...   \n",
       "11    require cli start require path require events ...   \n",
       "12    arial helvetica link visited hover focus activ...   \n",
       "13    pear arial page page header page header conten...   \n",
       "14                                                  NaN   \n",
       "15    org apache dubbo rpc cluster org apache dubbo ...   \n",
       "16    neural network neural network numpy sigmoid ca...   \n",
       "17    hover wrapper translate logo url main main mai...   \n",
       "18    before before icon stackoverflow before icon t...   \n",
       "19    rails integration configure defaults for all a...   \n",
       "20                                                  NaN   \n",
       "21    com example android observability persistence ...   \n",
       "22    prefix binprefix sysconfdir bins mans man bins...   \n",
       "23                                                  NaN   \n",
       "24    helvetica arial heiti stheiti break all hide r...   \n",
       "25    host contain icon inner fill stroke host flip ...   \n",
       "26    list list item name value row name name custom...   \n",
       "27    sass fff main white colour sass scss alert yie...   \n",
       "28    type pytype object reader type type pytype obj...   \n",
       "29    curl hnd curl easy init curl easy setopt hnd c...   \n",
       "...                                                 ...   \n",
       "2551  semaphore sem zsem init fsinit ffs init shutdo...   \n",
       "2552  net librec annotation java lang annotation doc...   \n",
       "2553  vendor autoload php phony sniff sniff vendor a...   \n",
       "2554  cmake minimum required project set set set set...   \n",
       "2555  helvetica arial map map container side bar sea...   \n",
       "2556  navbar nav navbar navbar brand navbar toggler ...   \n",
       "2557  before after apple system blink mac system fon...   \n",
       "2558                                                NaN   \n",
       "2559  node circle stroke stroke width link stroke st...   \n",
       "2560  abort error onerror loadstring loadstring load...   \n",
       "2561  pytest exe python exe home python major versio...   \n",
       "2562  select dropdown select results select results ...   \n",
       "2563  mix config config ueberauth support simple cal...   \n",
       "2564  markdown strict warnings digest vars version e...   \n",
       "2565  isline iswhite check standard judge jlen proce...   \n",
       "2566  client log api version get tls config cert cac...   \n",
       "2567  container navbar container navbar note navbar ...   \n",
       "2568  perspective mdperspective perspective mdperspe...   \n",
       "2569  struct fistruct fibitmap data struct fistruct ...   \n",
       "2570  verdana helvetica arial hover helvetica arial ...   \n",
       "2571                                                NaN   \n",
       "2572  raftkv clerk servers labrpc client end nrand m...   \n",
       "2573  run run sys sys version info major unicode str...   \n",
       "2574  prefix prefix facebook network address ipaddre...   \n",
       "2575  main argc argv argc fprintf stderr argv timeva...   \n",
       "2576  notify dbgprint dbgprintf dbgcallstack max ini...   \n",
       "2577  code editor typo spellcheck select color picke...   \n",
       "2578  common preprocessor flags common lang preproce...   \n",
       "2579  alert valert fff alert valert icon icon vicon ...   \n",
       "2580                                                NaN   \n",
       "\n",
       "                                                      2  \n",
       "0     copyright google inc all rights reserved licen...  \n",
       "1     dendrogram tooltip doctype html update the too...  \n",
       "2     karma configuration normal karma configuration...  \n",
       "3     makefile for sphinx documentation you can set ...  \n",
       "4     approximate for browsers not supporting calc p...  \n",
       "5     doctype html doctype html test framework sourc...  \n",
       "6     eslint disable camelcase eslint enable camelca...  \n",
       "7     from https github com tobiasahlin spin kit usa...  \n",
       "8     file verbal expressions java script library ve...  \n",
       "9     linux debug set cmake cxx compiler clang set c...  \n",
       "10    php php php php php php php this file part isp...  \n",
       "11    usr bin env node forever top jstop level inclu...  \n",
       "12    javadoc style sheet overall document style doc...  \n",
       "13    line more templates more sass line more templa...  \n",
       "14                                                  NaN  \n",
       "15    licensed the tothe apache software foundation ...  \n",
       "16    collection activation ofactivation functions r...  \n",
       "17    doctype html mark mark mark mark todo mark mar...  \n",
       "18    copied from https github com porterjamesj crow...  \n",
       "19    hinting development atdevelopment dependencies...  \n",
       "20                                                  NaN  \n",
       "21    copyright the cthe android open source project...  \n",
       "22    ifeq free osfree bsd else endif libraries used...  \n",
       "23                                                  NaN  \n",
       "24    important source mapping url style css map doc...  \n",
       "25    important icon rtl icon sizes important import...  \n",
       "26    doctype doctype doctype html doctype html doct...  \n",
       "27    why use bundler well not all development depen...  \n",
       "28    include python include maxminddb include struc...  \n",
       "29    important important important important import...  \n",
       "...                                                 ...  \n",
       "2551  copyright samsung csamsung electronics ltd col...  \n",
       "2552  librec waring annotation author keqiang wang c...  \n",
       "2553  php move first four digits end toend and set c...  \n",
       "2554  copyright the cartographer authors licensed un...  \n",
       "2555  important menu uimenu menu uimenu item menu ui...  \n",
       "2556  solves bootstrap issue https github com twbs b...  \n",
       "2557  reset global important important important imp...  \n",
       "2558                                                NaN  \n",
       "2559  rounded corners uncomment for shadow rules col...  \n",
       "2560  usr bin env lua for the module loader expected...  \n",
       "2561  basetemp that sothat our environments are crea...  \n",
       "2562  important important important important import...  \n",
       "2563  given strategy astrategy passed providers aspr...  \n",
       "2564  copyright apple capple computer inc all rights...  \n",
       "2565  include python define unreferenced parameter d...  \n",
       "2566  tls config check environment for docker client...  \n",
       "2567  important copyright the cthe xterm authors jsa...  \n",
       "2568  general styles for the modal styles for the ht...  \n",
       "2569  free image design and implementation floris va...  \n",
       "2570  svn file cake idcake generic css gwoo zgwoo ph...  \n",
       "2571                                                NaN  \n",
       "2572  you will have modify tomodify this struct you ...  \n",
       "2573  coding utf coding utf copyright bei cbei town ...  \n",
       "2574  copyright present cpresent facebook inc all ri...  \n",
       "2575  include stdio include sys time include stdlib ...  \n",
       "2576  copyright the cthe notify authors all rights r...  \n",
       "2577  support for all web kit browsers support for s...  \n",
       "2578  defines most text kit components are not publi...  \n",
       "2579  themes base spec psuedo content sizes icons ty...  \n",
       "2580                                                NaN  \n",
       "\n",
       "[2581 rows x 3 columns]"
      ]
     },
     "execution_count": 3,
     "metadata": {},
     "output_type": "execute_result"
    }
   ],
   "source": [
    "sourcecode = pd.read_csv(\"source_code_identifier_names\", sep='\\t', header=None)\n",
    "#sourcecode = sourcecode.drop(index=[3, 10]).reset_index()\n",
    "#sourcecode.drop(columns=['index'])\n",
    "sourcecode"
   ]
  },
  {
   "cell_type": "code",
   "execution_count": 4,
   "metadata": {
    "scrolled": true
   },
   "outputs": [
    {
     "data": {
      "text/plain": [
       "(2581, 3)"
      ]
     },
     "execution_count": 4,
     "metadata": {},
     "output_type": "execute_result"
    }
   ],
   "source": [
    "sourcecode.shape"
   ]
  },
  {
   "cell_type": "code",
   "execution_count": 5,
   "metadata": {},
   "outputs": [],
   "source": [
    "sourcecode.columns = ['repo', 'token.name', 'token.comment']"
   ]
  },
  {
   "cell_type": "code",
   "execution_count": 6,
   "metadata": {},
   "outputs": [],
   "source": [
    "data = sourcecode"
   ]
  },
  {
   "cell_type": "code",
   "execution_count": 7,
   "metadata": {},
   "outputs": [],
   "source": [
    "#data = data.dropna(subset=['token.name'])\n",
    "data.fillna({'token.name': ' ', 'token.comment': ' '}, inplace=True)"
   ]
  },
  {
   "cell_type": "code",
   "execution_count": 8,
   "metadata": {},
   "outputs": [
    {
     "data": {
      "text/plain": [
       "(2581, 3)"
      ]
     },
     "execution_count": 8,
     "metadata": {},
     "output_type": "execute_result"
    }
   ],
   "source": [
    "data.shape"
   ]
  },
  {
   "cell_type": "code",
   "execution_count": 9,
   "metadata": {},
   "outputs": [
    {
     "data": {
      "text/html": [
       "<div>\n",
       "<style scoped>\n",
       "    .dataframe tbody tr th:only-of-type {\n",
       "        vertical-align: middle;\n",
       "    }\n",
       "\n",
       "    .dataframe tbody tr th {\n",
       "        vertical-align: top;\n",
       "    }\n",
       "\n",
       "    .dataframe thead th {\n",
       "        text-align: right;\n",
       "    }\n",
       "</style>\n",
       "<table border=\"1\" class=\"dataframe\">\n",
       "  <thead>\n",
       "    <tr style=\"text-align: right;\">\n",
       "      <th></th>\n",
       "      <th>repo</th>\n",
       "      <th>token.name</th>\n",
       "      <th>token.comment</th>\n",
       "    </tr>\n",
       "  </thead>\n",
       "  <tbody>\n",
       "    <tr>\n",
       "      <th>0</th>\n",
       "      <td>google/web-starter-kit</td>\n",
       "      <td>mdl demo mdl layout header row mdl demo mdl la...</td>\n",
       "      <td>copyright google inc all rights reserved licen...</td>\n",
       "    </tr>\n",
       "    <tr>\n",
       "      <th>1</th>\n",
       "      <td>JacksonTian/fks</td>\n",
       "      <td>node fill stroke stroke width node node hover ...</td>\n",
       "      <td>dendrogram tooltip doctype html update the too...</td>\n",
       "    </tr>\n",
       "    <tr>\n",
       "      <th>2</th>\n",
       "      <td>nfl/react-helmet</td>\n",
       "      <td>module exports config normalization browser na...</td>\n",
       "      <td>karma configuration normal karma configuration...</td>\n",
       "    </tr>\n",
       "    <tr>\n",
       "      <th>3</th>\n",
       "      <td>domnikl/DesignPatternsPHP</td>\n",
       "      <td>sphinxopts sphinxbuild paper builddir error th...</td>\n",
       "      <td>makefile for sphinx documentation you can set ...</td>\n",
       "    </tr>\n",
       "    <tr>\n",
       "      <th>4</th>\n",
       "      <td>petkaantonov/bluebird</td>\n",
       "      <td>mocha helvetica arial mocha mocha mocha mocha ...</td>\n",
       "      <td>approximate for browsers not supporting calc p...</td>\n",
       "    </tr>\n",
       "  </tbody>\n",
       "</table>\n",
       "</div>"
      ],
      "text/plain": [
       "                        repo  \\\n",
       "0     google/web-starter-kit   \n",
       "1            JacksonTian/fks   \n",
       "2           nfl/react-helmet   \n",
       "3  domnikl/DesignPatternsPHP   \n",
       "4      petkaantonov/bluebird   \n",
       "\n",
       "                                          token.name  \\\n",
       "0  mdl demo mdl layout header row mdl demo mdl la...   \n",
       "1  node fill stroke stroke width node node hover ...   \n",
       "2  module exports config normalization browser na...   \n",
       "3  sphinxopts sphinxbuild paper builddir error th...   \n",
       "4  mocha helvetica arial mocha mocha mocha mocha ...   \n",
       "\n",
       "                                       token.comment  \n",
       "0  copyright google inc all rights reserved licen...  \n",
       "1  dendrogram tooltip doctype html update the too...  \n",
       "2  karma configuration normal karma configuration...  \n",
       "3  makefile for sphinx documentation you can set ...  \n",
       "4  approximate for browsers not supporting calc p...  "
      ]
     },
     "execution_count": 9,
     "metadata": {},
     "output_type": "execute_result"
    }
   ],
   "source": [
    "data.head()"
   ]
  },
  {
   "cell_type": "code",
   "execution_count": 115,
   "metadata": {},
   "outputs": [],
   "source": [
    "# Count the number of words and the number of distinct words in each document\n",
    "def doc_length(document):\n",
    "    return len(document.split(' '))\n",
    "def countdistinct(document):\n",
    "    return len(set(document.split(' ')))\n",
    "# Stem text\n",
    "def stemming(tokenized_text):\n",
    "    text = [ps.stem(word) for word in tokenized_text.split(' ') if word not in en_stop]\n",
    "    res = \" \".join(text)\n",
    "    return res"
   ]
  },
  {
   "cell_type": "code",
   "execution_count": 138,
   "metadata": {},
   "outputs": [],
   "source": [
    "def preprocess_data(doc):\n",
    "    \"\"\"\n",
    "    Input  : docuemnt text\n",
    "    Purpose: preprocess text (tokenize, removing stopwords, and stemming)\n",
    "    Output : preprocessed text\n",
    "    \"\"\"\n",
    "    # initialize regex tokenizer\n",
    "    tokenizer = RegexpTokenizer(r'\\w+')\n",
    "    # create English stop words list\n",
    "    en_stop = set(stopwords.words('english'))\n",
    "    # Create p_stemmer of class PorterStemmer\n",
    "    p_stemmer = PorterStemmer()\n",
    "    # clean and tokenize document string\n",
    "\n",
    "    tokens = tokenizer.tokenize(doc)\n",
    "    # remove stop words from tokens\n",
    "    stopped_tokens = [i for i in tokens if not i in en_stop]\n",
    "    # stem tokens\n",
    "    stemmed_tokens = [p_stemmer.stem(i) for i in stopped_tokens]\n",
    "\n",
    "    return \" \".join(stemmed_tokens) "
   ]
  },
  {
   "cell_type": "code",
   "execution_count": 238,
   "metadata": {},
   "outputs": [],
   "source": [
    "sample = pd.read_csv(\"test_identifier_names\", sep='\\t', header=None)\n",
    "sample.columns = ['repo', 'token.name', 'token.comment']"
   ]
  },
  {
   "cell_type": "code",
   "execution_count": 250,
   "metadata": {},
   "outputs": [
    {
     "data": {
      "text/html": [
       "<div>\n",
       "<style scoped>\n",
       "    .dataframe tbody tr th:only-of-type {\n",
       "        vertical-align: middle;\n",
       "    }\n",
       "\n",
       "    .dataframe tbody tr th {\n",
       "        vertical-align: top;\n",
       "    }\n",
       "\n",
       "    .dataframe thead th {\n",
       "        text-align: right;\n",
       "    }\n",
       "</style>\n",
       "<table border=\"1\" class=\"dataframe\">\n",
       "  <thead>\n",
       "    <tr style=\"text-align: right;\">\n",
       "      <th></th>\n",
       "      <th>repo</th>\n",
       "      <th>token.name</th>\n",
       "      <th>token.comment</th>\n",
       "      <th>tag</th>\n",
       "      <th>tn_length</th>\n",
       "      <th>tc_length</th>\n",
       "      <th>tn_difflen</th>\n",
       "      <th>tc_difflen</th>\n",
       "    </tr>\n",
       "  </thead>\n",
       "  <tbody>\n",
       "    <tr>\n",
       "      <th>0</th>\n",
       "      <td>mhoofman/wordpress-heroku</td>\n",
       "      <td>about wrap about wrap updated about wrap error...</td>\n",
       "      <td>about pages global about credits freedoms typo...</td>\n",
       "      <td>0</td>\n",
       "      <td>482267</td>\n",
       "      <td>159686</td>\n",
       "      <td>7003</td>\n",
       "      <td>13853</td>\n",
       "    </tr>\n",
       "    <tr>\n",
       "      <th>1</th>\n",
       "      <td>dxw/wordpress</td>\n",
       "      <td>about wrap about wrap updated about wrap error...</td>\n",
       "      <td>about pages global about credits freedoms typo...</td>\n",
       "      <td>0</td>\n",
       "      <td>483376</td>\n",
       "      <td>163361</td>\n",
       "      <td>6935</td>\n",
       "      <td>13928</td>\n",
       "    </tr>\n",
       "    <tr>\n",
       "      <th>2</th>\n",
       "      <td>jumilla/wordpress-plus</td>\n",
       "      <td>about wrap about wrap updated about wrap error...</td>\n",
       "      <td>theme name theme name theme uri theme uri vers...</td>\n",
       "      <td>0</td>\n",
       "      <td>503210</td>\n",
       "      <td>165061</td>\n",
       "      <td>7129</td>\n",
       "      <td>14224</td>\n",
       "    </tr>\n",
       "    <tr>\n",
       "      <th>3</th>\n",
       "      <td>markjaquith/WordPress</td>\n",
       "      <td>about wrap about wrap full width layout about ...</td>\n",
       "      <td>about pages global about credits freedoms typo...</td>\n",
       "      <td>0</td>\n",
       "      <td>882888</td>\n",
       "      <td>305525</td>\n",
       "      <td>9123</td>\n",
       "      <td>19314</td>\n",
       "    </tr>\n",
       "    <tr>\n",
       "      <th>4</th>\n",
       "      <td>twitter/mysql</td>\n",
       "      <td>begin curr mcurr count mcount level mlevel cur...</td>\n",
       "      <td>copyright sql mysql use subject issubject lice...</td>\n",
       "      <td>1</td>\n",
       "      <td>861375</td>\n",
       "      <td>833065</td>\n",
       "      <td>11140</td>\n",
       "      <td>31236</td>\n",
       "    </tr>\n",
       "    <tr>\n",
       "      <th>5</th>\n",
       "      <td>facebook/mysql-5.6</td>\n",
       "      <td>results results results results results result...</td>\n",
       "      <td>bin awk the ifthe output format has changed an...</td>\n",
       "      <td>1</td>\n",
       "      <td>1132662</td>\n",
       "      <td>1032194</td>\n",
       "      <td>13520</td>\n",
       "      <td>35269</td>\n",
       "    </tr>\n",
       "    <tr>\n",
       "      <th>6</th>\n",
       "      <td>Tokutek/mysql-5.5</td>\n",
       "      <td>begin curr mcurr count mcount level mlevel cur...</td>\n",
       "      <td>copyright sql mysql use subject issubject lice...</td>\n",
       "      <td>1</td>\n",
       "      <td>853522</td>\n",
       "      <td>822965</td>\n",
       "      <td>11052</td>\n",
       "      <td>31074</td>\n",
       "    </tr>\n",
       "    <tr>\n",
       "      <th>7</th>\n",
       "      <td>Tokutek/mariadb-5.5</td>\n",
       "      <td>begin curr mcurr count mcount level mlevel cur...</td>\n",
       "      <td>copyright sql mysql use subject issubject lice...</td>\n",
       "      <td>1</td>\n",
       "      <td>1453540</td>\n",
       "      <td>1336241</td>\n",
       "      <td>12143</td>\n",
       "      <td>34674</td>\n",
       "    </tr>\n",
       "    <tr>\n",
       "      <th>10</th>\n",
       "      <td>ChimeraCoder/gitgo</td>\n",
       "      <td>usage str main argc argv stat from buf data bu...</td>\n",
       "      <td>test delta test ctest code exercise toexercise...</td>\n",
       "      <td>2</td>\n",
       "      <td>5092</td>\n",
       "      <td>2317</td>\n",
       "      <td>294</td>\n",
       "      <td>791</td>\n",
       "    </tr>\n",
       "    <tr>\n",
       "      <th>11</th>\n",
       "      <td>src-d/go-git</td>\n",
       "      <td>main main check args url directory args args i...</td>\n",
       "      <td>example anexample how ofhow create tocreate an...</td>\n",
       "      <td>2</td>\n",
       "      <td>117216</td>\n",
       "      <td>47893</td>\n",
       "      <td>1689</td>\n",
       "      <td>5761</td>\n",
       "    </tr>\n",
       "    <tr>\n",
       "      <th>12</th>\n",
       "      <td>aciditeam/torch-models</td>\n",
       "      <td>create model backend matio require maxpooling ...</td>\n",
       "      <td>zeiler network istaencoder class possibly with...</td>\n",
       "      <td>3</td>\n",
       "      <td>31173</td>\n",
       "      <td>16442</td>\n",
       "      <td>1081</td>\n",
       "      <td>2635</td>\n",
       "    </tr>\n",
       "    <tr>\n",
       "      <th>13</th>\n",
       "      <td>torch/nn</td>\n",
       "      <td>index thindex integer thinteger thnns tate thn...</td>\n",
       "      <td>ifndef thnn define thnn include stdbool includ...</td>\n",
       "      <td>3</td>\n",
       "      <td>127824</td>\n",
       "      <td>17121</td>\n",
       "      <td>1264</td>\n",
       "      <td>2459</td>\n",
       "    </tr>\n",
       "  </tbody>\n",
       "</table>\n",
       "</div>"
      ],
      "text/plain": [
       "                         repo  \\\n",
       "0   mhoofman/wordpress-heroku   \n",
       "1               dxw/wordpress   \n",
       "2      jumilla/wordpress-plus   \n",
       "3       markjaquith/WordPress   \n",
       "4               twitter/mysql   \n",
       "5          facebook/mysql-5.6   \n",
       "6           Tokutek/mysql-5.5   \n",
       "7         Tokutek/mariadb-5.5   \n",
       "10         ChimeraCoder/gitgo   \n",
       "11               src-d/go-git   \n",
       "12     aciditeam/torch-models   \n",
       "13                   torch/nn   \n",
       "\n",
       "                                           token.name  \\\n",
       "0   about wrap about wrap updated about wrap error...   \n",
       "1   about wrap about wrap updated about wrap error...   \n",
       "2   about wrap about wrap updated about wrap error...   \n",
       "3   about wrap about wrap full width layout about ...   \n",
       "4   begin curr mcurr count mcount level mlevel cur...   \n",
       "5   results results results results results result...   \n",
       "6   begin curr mcurr count mcount level mlevel cur...   \n",
       "7   begin curr mcurr count mcount level mlevel cur...   \n",
       "10  usage str main argc argv stat from buf data bu...   \n",
       "11  main main check args url directory args args i...   \n",
       "12  create model backend matio require maxpooling ...   \n",
       "13  index thindex integer thinteger thnns tate thn...   \n",
       "\n",
       "                                        token.comment  tag  tn_length  \\\n",
       "0   about pages global about credits freedoms typo...    0     482267   \n",
       "1   about pages global about credits freedoms typo...    0     483376   \n",
       "2   theme name theme name theme uri theme uri vers...    0     503210   \n",
       "3   about pages global about credits freedoms typo...    0     882888   \n",
       "4   copyright sql mysql use subject issubject lice...    1     861375   \n",
       "5   bin awk the ifthe output format has changed an...    1    1132662   \n",
       "6   copyright sql mysql use subject issubject lice...    1     853522   \n",
       "7   copyright sql mysql use subject issubject lice...    1    1453540   \n",
       "10  test delta test ctest code exercise toexercise...    2       5092   \n",
       "11  example anexample how ofhow create tocreate an...    2     117216   \n",
       "12  zeiler network istaencoder class possibly with...    3      31173   \n",
       "13  ifndef thnn define thnn include stdbool includ...    3     127824   \n",
       "\n",
       "    tc_length  tn_difflen  tc_difflen  \n",
       "0      159686        7003       13853  \n",
       "1      163361        6935       13928  \n",
       "2      165061        7129       14224  \n",
       "3      305525        9123       19314  \n",
       "4      833065       11140       31236  \n",
       "5     1032194       13520       35269  \n",
       "6      822965       11052       31074  \n",
       "7     1336241       12143       34674  \n",
       "10       2317         294         791  \n",
       "11      47893        1689        5761  \n",
       "12      16442        1081        2635  \n",
       "13      17121        1264        2459  "
      ]
     },
     "execution_count": 250,
     "metadata": {},
     "output_type": "execute_result"
    }
   ],
   "source": [
    "sample"
   ]
  },
  {
   "cell_type": "code",
   "execution_count": 247,
   "metadata": {},
   "outputs": [],
   "source": [
    "tag = np.array([0, 0, 0, 0, 1, 1, 1, 1, 2, 2, 3, 3])\n",
    "sample['tag'] = tag"
   ]
  },
  {
   "cell_type": "code",
   "execution_count": 252,
   "metadata": {},
   "outputs": [],
   "source": [
    "sample['stemmed_name'] = sample['token.name'].map(preprocess_data)\n",
    "sample['stemmed_comment'] = sample['token.comment'].map(preprocess_data)"
   ]
  },
  {
   "cell_type": "code",
   "execution_count": 299,
   "metadata": {},
   "outputs": [],
   "source": [
    "sample['tn_length'] = sample['stemmed_name'].map(doc_length)\n",
    "sample['tc_length'] = sample['stemmed_comment'].map(doc_length)\n",
    "sample['tn_difflen'] = sample['stemmed_name'].map(countdistinct)\n",
    "sample['tc_difflen'] = sample['stemmed_comment'].map(countdistinct)"
   ]
  },
  {
   "cell_type": "code",
   "execution_count": 336,
   "metadata": {},
   "outputs": [
    {
     "data": {
      "image/png": "[encoded data removed]",
      "text/plain": [
       "<matplotlib.figure.Figure at 0x14501b438>"
      ]
     },
     "metadata": {},
     "output_type": "display_data"
    }
   ],
   "source": [
    "# the histogram of the data\n",
    "sample_name_text = \" \".join([doc for doc in sample['stemmed_name']])\n",
    "sample_name_count = Counter(sample_name_text.split(' '))\n",
    "sample_name_count = [s[1] for s in sample_name_count.most_common()]\n",
    "n, bins, patches = plt.hist(sample_name_count, 40)\n",
    "\n",
    "plt.xlabel('stemmed words number')\n",
    "plt.ylabel('frequency')\n",
    "plt.title('identifier names histogram')\n",
    "plt.show()"
   ]
  },
  {
   "cell_type": "code",
   "execution_count": 338,
   "metadata": {},
   "outputs": [
    {
     "data": {
      "image/png": "[encoded data removed]",
      "text/plain": [
       "<matplotlib.figure.Figure at 0x17a8a2ac8>"
      ]
     },
     "metadata": {},
     "output_type": "display_data"
    }
   ],
   "source": [
    "sample_comment_text = \" \".join([doc for doc in sample['stemmed_comment']])\n",
    "sample_comment_count = Counter(sample_comment_text.split(' '))\n",
    "sample_comment_count = [s[1] for s in sample_comment_count.most_common()]\n",
    "n, bins, patches = plt.hist(sample_comment_count, 40)\n",
    "\n",
    "plt.xlabel('stemmed words number')\n",
    "plt.ylabel('frequency')\n",
    "plt.title('commnets histogram')\n",
    "plt.show()"
   ]
  },
  {
   "cell_type": "markdown",
   "metadata": {},
   "source": [
    "### Tf-Idf Matrix"
   ]
  },
  {
   "cell_type": "code",
   "execution_count": 253,
   "metadata": {},
   "outputs": [],
   "source": [
    "sample_tfidf_vect = TfidfVectorizer(stop_words='english', \n",
    "#max_features= 20000, # keep top 20000 terms \n",
    "max_df = 0.85, \n",
    "min_df = 2,\n",
    "smooth_idf=True)\n",
    "sample_X = sample_tfidf_vect.fit_transform(sample['stemmed_name'])"
   ]
  },
  {
   "cell_type": "code",
   "execution_count": 260,
   "metadata": {},
   "outputs": [],
   "source": [
    "dist = 1 - cosine_similarity(sample_X)"
   ]
  },
  {
   "cell_type": "markdown",
   "metadata": {},
   "source": [
    "### K-means"
   ]
  },
  {
   "cell_type": "code",
   "execution_count": 254,
   "metadata": {},
   "outputs": [
    {
     "name": "stdout",
     "output_type": "stream",
     "text": [
      "CPU times: user 3.03 s, sys: 288 ms, total: 3.31 s\n",
      "Wall time: 1.87 s\n"
     ]
    }
   ],
   "source": [
    "num_clusters = 4\n",
    "\n",
    "km = KMeans(n_clusters=num_clusters)\n",
    "\n",
    "%time km.fit(sample_X)\n",
    "\n",
    "clusters = km.labels_.tolist()"
   ]
  },
  {
   "cell_type": "code",
   "execution_count": 255,
   "metadata": {},
   "outputs": [
    {
     "data": {
      "text/plain": [
       "[1, 1, 1, 1, 3, 3, 3, 3, 2, 2, 0, 0]"
      ]
     },
     "execution_count": 255,
     "metadata": {},
     "output_type": "execute_result"
    }
   ],
   "source": [
    "clusters"
   ]
  },
  {
   "cell_type": "code",
   "execution_count": 286,
   "metadata": {},
   "outputs": [],
   "source": [
    "#set up colors per clusters using a dict\n",
    "cluster_colors = {0: '#1b9e77', 1: '#d95f02', 2: '#7570b3', 3: '#e7298a'}\n",
    "\n",
    "#set up cluster names using a dict\n",
    "cluster_names = {0: 'torch', \n",
    "                 1: 'wordpress', \n",
    "                 2: 'go-git', \n",
    "                 3: 'database'}"
   ]
  },
  {
   "cell_type": "code",
   "execution_count": 283,
   "metadata": {},
   "outputs": [],
   "source": [
    "MDS()\n",
    "# convert two components as we're plotting points in a two-dimensional plane\n",
    "# \"precomputed\" because we provide a distance matrix\n",
    "# we will also specify `random_state` so the plot is reproducible.\n",
    "mds = MDS(n_components=2, dissimilarity=\"precomputed\", random_state=1)\n",
    "pos = mds.fit_transform(dist)  # shape (n_components, n_samples)\n",
    "xs, ys = pos[:, 0], pos[:, 1]"
   ]
  },
  {
   "cell_type": "code",
   "execution_count": 284,
   "metadata": {},
   "outputs": [],
   "source": [
    "visKmeans_df = pd.DataFrame(dict(x=xs, y=ys, label=clusters, title=sample['repo']))"
   ]
  },
  {
   "cell_type": "code",
   "execution_count": 292,
   "metadata": {},
   "outputs": [
    {
     "data": {
      "image/png": "[encoded data removed]",
      "text/plain": [
       "<matplotlib.figure.Figure at 0x145c680f0>"
      ]
     },
     "metadata": {},
     "output_type": "display_data"
    }
   ],
   "source": [
    "#group by cluster\n",
    "groups = visKmeans_df.groupby('label')\n",
    "\n",
    "\n",
    "# set up plot\n",
    "fig, ax = plt.subplots(figsize=(10, 6)) # set size\n",
    "ax.margins(0.05) # Optional, just adds 5% padding to the autoscaling\n",
    "\n",
    "#iterate through groups to layer the plot\n",
    "#note that I use the cluster_name and cluster_color dicts with the 'name' lookup to return the appropriate color/label\n",
    "for name, group in groups:\n",
    "    ax.plot(group.x, group.y, marker='o', linestyle='', ms=12, \n",
    "            label=cluster_names[name], color=cluster_colors[name], \n",
    "            mec='none')\n",
    "    ax.set_aspect('auto')\n",
    "    ax.tick_params(\\\n",
    "        axis= 'x',          # changes apply to the x-axis\n",
    "        which='both',      # both major and minor ticks are affected\n",
    "        bottom='off',      # ticks along the bottom edge are off\n",
    "        top='off',         # ticks along the top edge are off\n",
    "        labelbottom='off')\n",
    "    ax.tick_params(\\\n",
    "        axis= 'y',         # changes apply to the y-axis\n",
    "        which='both',      # both major and minor ticks are affected\n",
    "        left='off',      # ticks along the bottom edge are off\n",
    "        top='off',         # ticks along the top edge are off\n",
    "        labelleft='off')\n",
    "    \n",
    "ax.legend(numpoints=1)  #show legend with only 1 point\n",
    "\n",
    "#add label in x,y position with the label as the film title\n",
    "for i in range(len(visKmeans_df)):\n",
    "    ax.text(visKmeans_df.iloc[i]['x'], visKmeans_df.iloc[i]['y'], visKmeans_df.iloc[i]['title'], size=8)  \n",
    "\n",
    "    \n",
    "    \n",
    "plt.show() #show the plot"
   ]
  },
  {
   "cell_type": "markdown",
   "metadata": {},
   "source": [
    "### LDA"
   ]
  },
  {
   "cell_type": "code",
   "execution_count": 297,
   "metadata": {},
   "outputs": [
    {
     "data": {
      "text/plain": [
       "LatentDirichletAllocation(batch_size=128, doc_topic_prior=None,\n",
       "             evaluate_every=-1, learning_decay=0.7,\n",
       "             learning_method='batch', learning_offset=10.0,\n",
       "             max_doc_update_iter=100, max_iter=10, mean_change_tol=0.001,\n",
       "             n_components=4, n_jobs=None, n_topics=None, perp_tol=0.1,\n",
       "             random_state=42, topic_word_prior=None,\n",
       "             total_samples=1000000.0, verbose=0)"
      ]
     },
     "execution_count": 297,
     "metadata": {},
     "output_type": "execute_result"
    }
   ],
   "source": [
    "sample_cv = CountVectorizer(max_df=0.9, min_df=2, stop_words='english')\n",
    "sample_dtm = sample_cv.fit_transform(sample['stemmed_name'])\n",
    "sample_LDA = LatentDirichletAllocation(n_components=4,random_state=42)\n",
    "sample_LDA.fit(sample_dtm)"
   ]
  },
  {
   "cell_type": "code",
   "execution_count": 298,
   "metadata": {},
   "outputs": [
    {
     "name": "stdout",
     "output_type": "stream",
     "text": [
      "THE TOP 15 WORDS FOR TOPIC #0\n",
      "['dbug', 'univ', 'uint', 'mutex', 'field', 'stmt', 'trx', 'mtr', 'ulint', 'lock', 'uchar', 'block', 'rec', 'page', 'mysql']\n",
      "\n",
      "\n",
      "THE TOP 15 WORDS FOR TOPIC #1\n",
      "['linear', 'resiz', 'plane', 'real', 'batch', 'bia', 'paramet', 'mytest', 'dim', 'model', 'torch', 'weight', 'tensor', 'grad', 'self']\n",
      "\n",
      "\n",
      "THE TOP 15 WORDS FOR TOPIC #2\n",
      "['media', 'titl', 'filter', 'array', 'link', 'isset', 'theme', 'user', 'widget', 'content', 'item', 'url', 'comment', 'menu', 'post']\n",
      "\n",
      "\n",
      "THE TOP 15 WORDS FOR TOPIC #3\n",
      "['content', 'decod', 'tag', 'request', 'session', 'cmd', 'pack', 'refer', 'req', 'commit', 'tree', 'oper', 'statu', 'suit', 'nil']\n",
      "\n",
      "\n"
     ]
    }
   ],
   "source": [
    "for index,topic in enumerate(sample_LDA.components_):\n",
    "    print(f'THE TOP 15 WORDS FOR TOPIC #{index}')\n",
    "    print([sample_cv.get_feature_names()[i] for i in topic.argsort()[-15:]])\n",
    "    print('\\n')"
   ]
  },
  {
   "cell_type": "code",
   "execution_count": null,
   "metadata": {},
   "outputs": [],
   "source": []
  },
  {
   "cell_type": "code",
   "execution_count": null,
   "metadata": {},
   "outputs": [],
   "source": []
  },
  {
   "cell_type": "code",
   "execution_count": null,
   "metadata": {},
   "outputs": [],
   "source": [
    "data['tn_length'] = data['token.name'].map(doc_length)\n",
    "data['tc_length'] = data['token.comment'].map(doc_length)\n",
    "data['tn_difflen'] = data['token.name'].map(countdistinct)\n",
    "data['tc_difflen'] = data['token.comment'].map(countdistinct)"
   ]
  },
  {
   "cell_type": "code",
   "execution_count": 74,
   "metadata": {},
   "outputs": [],
   "source": [
    "# filter those with distinct words less than 50\n",
    "sub_data = data[data['tn_difflen'] > 50]\n",
    "# filter those with more than 1000000 identifier names\n",
    "sub_data = sub_data[sub_data['tn_length'] < 1000000]"
   ]
  },
  {
   "cell_type": "markdown",
   "metadata": {},
   "source": [
    "##### Extract stem from each repository. This would take an hour and a half"
   ]
  },
  {
   "cell_type": "code",
   "execution_count": null,
   "metadata": {},
   "outputs": [],
   "source": [
    "sub_data['stemmed_name'] = sub_data['token.name'].map()\n",
    "sub_data['stemmed_comment'] = sub_data['token.comment'].map(stemming)"
   ]
  },
  {
   "cell_type": "code",
   "execution_count": 159,
   "metadata": {},
   "outputs": [],
   "source": [
    "sub_data['stemmed_name'] = sub_data['token.name'].map(preprocess_data)\n",
    "sub_data['stemmed_comment'] = sub_data['token.comment'].map(preprocess_data)"
   ]
  },
  {
   "cell_type": "code",
   "execution_count": 160,
   "metadata": {},
   "outputs": [],
   "source": [
    "sub_data['tn_length'] = sub_data['stemmed_name'].map(doc_length)\n",
    "sub_data['tc_length'] = sub_data['stemmed_comment'].map(doc_length)\n",
    "sub_data['tn_difflen'] = sub_data['stemmed_name'].map(countdistinct)\n",
    "sub_data['tc_difflen'] = sub_data['stemmed_comment'].map(countdistinct)"
   ]
  },
  {
   "cell_type": "code",
   "execution_count": 308,
   "metadata": {},
   "outputs": [
    {
     "data": {
      "image/png": "[encoded data removed]",
      "text/plain": [
       "<matplotlib.figure.Figure at 0x19d93cf60>"
      ]
     },
     "metadata": {},
     "output_type": "display_data"
    }
   ],
   "source": [
    "# the histogram of the data\n",
    "n, bins, patches = plt.hist(sub_data['tn_length'])\n",
    "\n",
    "plt.xlabel('Bag-of-words size')\n",
    "plt.ylabel('frequency')\n",
    "plt.title('identifier names histogram')\n",
    "plt.show()"
   ]
  },
  {
   "cell_type": "code",
   "execution_count": 309,
   "metadata": {},
   "outputs": [
    {
     "data": {
      "image/png": "[encoded data removed]",
      "text/plain": [
       "<matplotlib.figure.Figure at 0x1366c8ac8>"
      ]
     },
     "metadata": {},
     "output_type": "display_data"
    }
   ],
   "source": [
    "# the histogram of the data\n",
    "n, bins, patches = plt.hist(sub_data['tc_length'])\n",
    "\n",
    "plt.xlabel('Bag-of-words size')\n",
    "plt.ylabel('frequency')\n",
    "plt.title('comments size histogram')\n",
    "plt.show()"
   ]
  },
  {
   "cell_type": "code",
   "execution_count": 307,
   "metadata": {},
   "outputs": [
    {
     "data": {
      "image/png": "[encoded data removed]",
      "text/plain": [
       "<matplotlib.figure.Figure at 0x13c9168d0>"
      ]
     },
     "metadata": {},
     "output_type": "display_data"
    }
   ],
   "source": [
    "n, bins, patches = plt.hist(sub_data['tn_difflen'])\n",
    "\n",
    "plt.xlabel('number of words')\n",
    "plt.ylabel('frequency')\n",
    "plt.title('Number of distinct words in each repo')\n",
    "plt.show()"
   ]
  },
  {
   "cell_type": "code",
   "execution_count": 311,
   "metadata": {},
   "outputs": [
    {
     "data": {
      "image/png": "[encoded data removed]",
      "text/plain": [
       "<matplotlib.figure.Figure at 0x13aa17588>"
      ]
     },
     "metadata": {},
     "output_type": "display_data"
    }
   ],
   "source": [
    "n, bins, patches = plt.hist(sub_data['tc_difflen'])\n",
    "\n",
    "plt.xlabel('number of words')\n",
    "plt.ylabel('frequency')\n",
    "plt.title('Number of distinct words in comments from each repo')\n",
    "plt.show()"
   ]
  },
  {
   "cell_type": "code",
   "execution_count": 350,
   "metadata": {},
   "outputs": [
    {
     "data": {
      "image/png": "[encoded data removed]",
      "text/plain": [
       "<matplotlib.figure.Figure at 0x14e7a61d0>"
      ]
     },
     "metadata": {},
     "output_type": "display_data"
    }
   ],
   "source": [
    "plt.scatter(sub_data['tn_length'], sub_data['tc_length'])\n",
    "plt.xlabel('number of words in identifier names')\n",
    "plt.ylabel('number of words in comments')\n",
    "plt.show()"
   ]
  },
  {
   "cell_type": "code",
   "execution_count": 351,
   "metadata": {},
   "outputs": [
    {
     "data": {
      "image/png": "[encoded data removed]",
      "text/plain": [
       "<matplotlib.figure.Figure at 0x13acc3240>"
      ]
     },
     "metadata": {},
     "output_type": "display_data"
    }
   ],
   "source": [
    "plt.scatter(sub_data['tn_difflen'], sub_data['tc_difflen'])\n",
    "plt.xlabel('number of different words in identifier names')\n",
    "plt.ylabel('number of different words in comments')\n",
    "plt.show()"
   ]
  },
  {
   "cell_type": "code",
   "execution_count": 339,
   "metadata": {},
   "outputs": [],
   "source": [
    "total_text = \" \".join([doc for doc in sub_data['stemmed_name']])\n",
    "total_comment = \" \".join([com for com in sub_data['stemmed_comment']])\n",
    "text_count = Counter(total_text.split(' ')).most_common()\n",
    "comment_count = Counter(total_comment.split(' ')).most_common()"
   ]
  },
  {
   "cell_type": "code",
   "execution_count": 340,
   "metadata": {},
   "outputs": [],
   "source": [
    "text_count = [tc[1] for tc in text_count]\n",
    "comment_count = [cc[1] for cc in comment_count]"
   ]
  },
  {
   "cell_type": "code",
   "execution_count": 346,
   "metadata": {},
   "outputs": [
    {
     "data": {
      "image/png": "[encoded data removed]",
      "text/plain": [
       "<matplotlib.figure.Figure at 0x12bdea128>"
      ]
     },
     "metadata": {},
     "output_type": "display_data"
    }
   ],
   "source": [
    "n, bins, patches = plt.hist(text_count, 40)\n",
    "\n",
    "plt.xlabel('stemmed words number')\n",
    "plt.ylabel('frequency')\n",
    "plt.title('identifier names histogram')\n",
    "plt.show()"
   ]
  },
  {
   "cell_type": "code",
   "execution_count": 347,
   "metadata": {},
   "outputs": [
    {
     "data": {
      "image/png": "[encoded data removed]",
      "text/plain": [
       "<matplotlib.figure.Figure at 0x190618c18>"
      ]
     },
     "metadata": {},
     "output_type": "display_data"
    }
   ],
   "source": [
    "n, bins, patches = plt.hist(comment_count, 40)\n",
    "\n",
    "plt.xlabel('stemmed words number')\n",
    "plt.ylabel('frequency')\n",
    "plt.title('commnets histogram')\n",
    "plt.show()"
   ]
  },
  {
   "cell_type": "code",
   "execution_count": 171,
   "metadata": {},
   "outputs": [],
   "source": [
    "sub_data.to_csv(r'stemmed_data.csv')"
   ]
  },
  {
   "cell_type": "code",
   "execution_count": 161,
   "metadata": {},
   "outputs": [],
   "source": [
    "tn_data = sub_data[['repo', 'stemmed_name', 'tn_length', 'tn_difflen']]"
   ]
  },
  {
   "cell_type": "code",
   "execution_count": 87,
   "metadata": {},
   "outputs": [
    {
     "data": {
      "text/plain": [
       "count      2294.000000\n",
       "mean      65444.633391\n",
       "std      130372.029170\n",
       "min          99.000000\n",
       "25%        4248.000000\n",
       "50%       17158.500000\n",
       "75%       60741.750000\n",
       "max      985772.000000\n",
       "Name: tn_length, dtype: float64"
      ]
     },
     "execution_count": 87,
     "metadata": {},
     "output_type": "execute_result"
    }
   ],
   "source": [
    "tn_data['tn_length'].describe()"
   ]
  },
  {
   "cell_type": "code",
   "execution_count": 88,
   "metadata": {},
   "outputs": [
    {
     "data": {
      "text/plain": [
       "count     2294.000000\n",
       "mean      1120.127724\n",
       "std       1523.129682\n",
       "min         47.000000\n",
       "25%        313.000000\n",
       "50%        658.500000\n",
       "75%       1330.000000\n",
       "max      18797.000000\n",
       "Name: tn_difflen, dtype: float64"
      ]
     },
     "execution_count": 88,
     "metadata": {},
     "output_type": "execute_result"
    }
   ],
   "source": [
    "tn_data['tn_difflen'].describe()"
   ]
  },
  {
   "cell_type": "code",
   "execution_count": 89,
   "metadata": {},
   "outputs": [],
   "source": [
    "total_text = \" \".join([doc for doc in tn_data['stemmed_name']])"
   ]
  },
  {
   "cell_type": "code",
   "execution_count": 90,
   "metadata": {},
   "outputs": [
    {
     "data": {
      "text/plain": [
       "150129989"
      ]
     },
     "execution_count": 90,
     "metadata": {},
     "output_type": "execute_result"
    }
   ],
   "source": [
    "len(total_text.split(' '))"
   ]
  },
  {
   "cell_type": "code",
   "execution_count": 91,
   "metadata": {},
   "outputs": [
    {
     "data": {
      "text/plain": [
       "339891"
      ]
     },
     "execution_count": 91,
     "metadata": {},
     "output_type": "execute_result"
    }
   ],
   "source": [
    "len(set(total_text.split(' ')))"
   ]
  },
  {
   "cell_type": "code",
   "execution_count": null,
   "metadata": {},
   "outputs": [],
   "source": []
  },
  {
   "cell_type": "code",
   "execution_count": null,
   "metadata": {},
   "outputs": [],
   "source": []
  },
  {
   "cell_type": "code",
   "execution_count": null,
   "metadata": {},
   "outputs": [],
   "source": []
  },
  {
   "cell_type": "code",
   "execution_count": null,
   "metadata": {},
   "outputs": [],
   "source": []
  },
  {
   "cell_type": "markdown",
   "metadata": {},
   "source": [
    "### Vectorize documents"
   ]
  },
  {
   "cell_type": "markdown",
   "metadata": {},
   "source": [
    "### Embedding each repo by word count\n",
    "\n",
    "**max_df**:  ignore terms that have a document frequency strictly higher than the given threshold (corpus-specific stop words). If float, the parameter represents a proportion of documents, integer absolute counts. This parameter is ignored if vocabulary is not None.\n",
    "\n",
    "**min_df**:  ignore terms that have a document frequency strictly lower than the given threshold. This value is also called cut-off in the literature. If float, the parameter represents a proportion of documents, integer absolute counts. This parameter is ignored if vocabulary is not None.\n",
    "\n",
    "**max_features** : int or None (default=None)\n",
    "If not None, build a vocabulary that only consider the top max_features ordered by term frequency across the corpus."
   ]
  },
  {
   "cell_type": "code",
   "execution_count": 230,
   "metadata": {},
   "outputs": [],
   "source": [
    "cv = CountVectorizer(max_df=0.85, min_df=2, stop_words='english')\n",
    "dtm = cv.fit_transform(tn_data['stemmed_name'])"
   ]
  },
  {
   "cell_type": "code",
   "execution_count": 231,
   "metadata": {},
   "outputs": [
    {
     "data": {
      "text/plain": [
       "(2294, 152989)"
      ]
     },
     "execution_count": 231,
     "metadata": {},
     "output_type": "execute_result"
    }
   ],
   "source": [
    "dtm.shape"
   ]
  },
  {
   "cell_type": "code",
   "execution_count": 163,
   "metadata": {},
   "outputs": [],
   "source": [
    "word_count = pd.DataFrame(dtm.toarray())\n",
    "word_count.columns = cv.get_feature_names()"
   ]
  },
  {
   "cell_type": "code",
   "execution_count": 110,
   "metadata": {},
   "outputs": [
    {
     "data": {
      "text/html": [
       "<div>\n",
       "<style scoped>\n",
       "    .dataframe tbody tr th:only-of-type {\n",
       "        vertical-align: middle;\n",
       "    }\n",
       "\n",
       "    .dataframe tbody tr th {\n",
       "        vertical-align: top;\n",
       "    }\n",
       "\n",
       "    .dataframe thead th {\n",
       "        text-align: right;\n",
       "    }\n",
       "</style>\n",
       "<table border=\"1\" class=\"dataframe\">\n",
       "  <thead>\n",
       "    <tr style=\"text-align: right;\">\n",
       "      <th></th>\n",
       "      <th>aa</th>\n",
       "      <th>aaa</th>\n",
       "      <th>aaaa</th>\n",
       "      <th>aaaaa</th>\n",
       "      <th>aaaaaa</th>\n",
       "      <th>aaaansu</th>\n",
       "      <th>aaaar</th>\n",
       "      <th>aaae</th>\n",
       "      <th>aab</th>\n",
       "      <th>aabb</th>\n",
       "      <th>...</th>\n",
       "      <th>zym</th>\n",
       "      <th>zyn</th>\n",
       "      <th>zyx</th>\n",
       "      <th>zz</th>\n",
       "      <th>zzc</th>\n",
       "      <th>zzr</th>\n",
       "      <th>zzuf</th>\n",
       "      <th>zzv</th>\n",
       "      <th>zzz</th>\n",
       "      <th>zzzz</th>\n",
       "    </tr>\n",
       "  </thead>\n",
       "  <tbody>\n",
       "    <tr>\n",
       "      <th>0</th>\n",
       "      <td>0</td>\n",
       "      <td>0</td>\n",
       "      <td>0</td>\n",
       "      <td>0</td>\n",
       "      <td>0</td>\n",
       "      <td>0</td>\n",
       "      <td>0</td>\n",
       "      <td>0</td>\n",
       "      <td>0</td>\n",
       "      <td>0</td>\n",
       "      <td>...</td>\n",
       "      <td>0</td>\n",
       "      <td>0</td>\n",
       "      <td>0</td>\n",
       "      <td>0</td>\n",
       "      <td>0</td>\n",
       "      <td>0</td>\n",
       "      <td>0</td>\n",
       "      <td>0</td>\n",
       "      <td>0</td>\n",
       "      <td>0</td>\n",
       "    </tr>\n",
       "    <tr>\n",
       "      <th>1</th>\n",
       "      <td>0</td>\n",
       "      <td>0</td>\n",
       "      <td>0</td>\n",
       "      <td>0</td>\n",
       "      <td>0</td>\n",
       "      <td>0</td>\n",
       "      <td>0</td>\n",
       "      <td>0</td>\n",
       "      <td>0</td>\n",
       "      <td>0</td>\n",
       "      <td>...</td>\n",
       "      <td>0</td>\n",
       "      <td>0</td>\n",
       "      <td>0</td>\n",
       "      <td>0</td>\n",
       "      <td>0</td>\n",
       "      <td>0</td>\n",
       "      <td>0</td>\n",
       "      <td>0</td>\n",
       "      <td>0</td>\n",
       "      <td>0</td>\n",
       "    </tr>\n",
       "    <tr>\n",
       "      <th>2</th>\n",
       "      <td>0</td>\n",
       "      <td>0</td>\n",
       "      <td>0</td>\n",
       "      <td>0</td>\n",
       "      <td>0</td>\n",
       "      <td>0</td>\n",
       "      <td>0</td>\n",
       "      <td>0</td>\n",
       "      <td>0</td>\n",
       "      <td>0</td>\n",
       "      <td>...</td>\n",
       "      <td>0</td>\n",
       "      <td>0</td>\n",
       "      <td>0</td>\n",
       "      <td>0</td>\n",
       "      <td>0</td>\n",
       "      <td>0</td>\n",
       "      <td>0</td>\n",
       "      <td>0</td>\n",
       "      <td>0</td>\n",
       "      <td>0</td>\n",
       "    </tr>\n",
       "    <tr>\n",
       "      <th>3</th>\n",
       "      <td>0</td>\n",
       "      <td>0</td>\n",
       "      <td>0</td>\n",
       "      <td>0</td>\n",
       "      <td>0</td>\n",
       "      <td>0</td>\n",
       "      <td>0</td>\n",
       "      <td>0</td>\n",
       "      <td>0</td>\n",
       "      <td>0</td>\n",
       "      <td>...</td>\n",
       "      <td>0</td>\n",
       "      <td>0</td>\n",
       "      <td>0</td>\n",
       "      <td>0</td>\n",
       "      <td>0</td>\n",
       "      <td>0</td>\n",
       "      <td>0</td>\n",
       "      <td>0</td>\n",
       "      <td>0</td>\n",
       "      <td>0</td>\n",
       "    </tr>\n",
       "    <tr>\n",
       "      <th>4</th>\n",
       "      <td>0</td>\n",
       "      <td>0</td>\n",
       "      <td>0</td>\n",
       "      <td>0</td>\n",
       "      <td>0</td>\n",
       "      <td>0</td>\n",
       "      <td>0</td>\n",
       "      <td>0</td>\n",
       "      <td>0</td>\n",
       "      <td>0</td>\n",
       "      <td>...</td>\n",
       "      <td>0</td>\n",
       "      <td>0</td>\n",
       "      <td>0</td>\n",
       "      <td>0</td>\n",
       "      <td>0</td>\n",
       "      <td>0</td>\n",
       "      <td>0</td>\n",
       "      <td>0</td>\n",
       "      <td>0</td>\n",
       "      <td>0</td>\n",
       "    </tr>\n",
       "  </tbody>\n",
       "</table>\n",
       "<p>5 rows × 83041 columns</p>\n",
       "</div>"
      ],
      "text/plain": [
       "   aa  aaa  aaaa  aaaaa  aaaaaa  aaaansu  aaaar  aaae  aab  aabb  ...   zym  \\\n",
       "0   0    0     0      0       0        0      0     0    0     0  ...     0   \n",
       "1   0    0     0      0       0        0      0     0    0     0  ...     0   \n",
       "2   0    0     0      0       0        0      0     0    0     0  ...     0   \n",
       "3   0    0     0      0       0        0      0     0    0     0  ...     0   \n",
       "4   0    0     0      0       0        0      0     0    0     0  ...     0   \n",
       "\n",
       "   zyn  zyx  zz  zzc  zzr  zzuf  zzv  zzz  zzzz  \n",
       "0    0    0   0    0    0     0    0    0     0  \n",
       "1    0    0   0    0    0     0    0    0     0  \n",
       "2    0    0   0    0    0     0    0    0     0  \n",
       "3    0    0   0    0    0     0    0    0     0  \n",
       "4    0    0   0    0    0     0    0    0     0  \n",
       "\n",
       "[5 rows x 83041 columns]"
      ]
     },
     "execution_count": 110,
     "metadata": {},
     "output_type": "execute_result"
    }
   ],
   "source": [
    "word_count.head()"
   ]
  },
  {
   "cell_type": "code",
   "execution_count": 173,
   "metadata": {},
   "outputs": [],
   "source": [
    "tfidf_transformer = TfidfTransformer()\n",
    "tfidf = tfidf_transformer.fit_transform(word_count)\n"
   ]
  },
  {
   "cell_type": "code",
   "execution_count": 224,
   "metadata": {},
   "outputs": [],
   "source": [
    "tfidf_vect = TfidfVectorizer(stop_words='english', \n",
    "#max_features= 20000, # keep top 20000 terms \n",
    "max_df = 0.85, \n",
    "min_df = 2,\n",
    "smooth_idf=True)\n",
    "X = tfidf_vect.fit_transform(tn_data['stemmed_name'])"
   ]
  },
  {
   "cell_type": "code",
   "execution_count": null,
   "metadata": {},
   "outputs": [],
   "source": []
  },
  {
   "cell_type": "markdown",
   "metadata": {},
   "source": [
    "##### k-means clustering"
   ]
  },
  {
   "cell_type": "code",
   "execution_count": 183,
   "metadata": {},
   "outputs": [
    {
     "name": "stdout",
     "output_type": "stream",
     "text": [
      "CPU times: user 8min 4s, sys: 8.93 s, total: 8min 12s\n",
      "Wall time: 8min 2s\n"
     ]
    }
   ],
   "source": [
    "num_clusters = 20\n",
    "\n",
    "km = KMeans(n_clusters=num_clusters)\n",
    "\n",
    "%time km.fit(tfidf)\n",
    "\n",
    "clusters = km.labels_.tolist()"
   ]
  },
  {
   "cell_type": "markdown",
   "metadata": {},
   "source": [
    "##### Topic modeling using LSA"
   ]
  },
  {
   "cell_type": "code",
   "execution_count": 225,
   "metadata": {},
   "outputs": [
    {
     "data": {
      "text/plain": [
       "TruncatedSVD(algorithm='randomized', n_components=30, n_iter=1000,\n",
       "       random_state=122, tol=0.0)"
      ]
     },
     "execution_count": 225,
     "metadata": {},
     "output_type": "execute_result"
    }
   ],
   "source": [
    "svd_model = TruncatedSVD(n_components=30, algorithm='randomized', n_iter=1000, random_state=122)\n",
    "svd_model.fit(X)"
   ]
  },
  {
   "cell_type": "code",
   "execution_count": 226,
   "metadata": {},
   "outputs": [
    {
     "name": "stdout",
     "output_type": "stream",
     "text": [
      "Topic 0: \n",
      "self assert err expect node option equal config prop event requir state url result item element arg request length list\n",
      "Topic 1: \n",
      "self true fals kwarg dict train sy isinst len loss pytest shape django model cl batch init dtype tensor help\n",
      "Topic 2: \n",
      "err assert errorf fmt http new req request server client log conn config fatalf ctx byte len respons servic cmd\n",
      "Topic 3: \n",
      "assert equal expect strict qunit describ requir foo deep promis xct result obj toequal node object element array jqueri method\n",
      "Topic 4: \n",
      "view assert android com anim java layout imag overrid color org activ event list util item size intent control text\n",
      "Topic 5: \n",
      "node err element assert len length index line num style child left size tree fmt width equal rang layer document\n",
      "Topic 6: \n",
      "prop assert err react style equal state self compon view icon render store div theme color wrapper errorf action anim\n",
      "Topic 7: \n",
      "expect view toequal node android err spi describ anim jasmin equal context com layout observ tohav self layer intent vnode\n",
      "Topic 8: \n",
      "event element expect request document queri respons class user url btn select form model http contain option scroll html req\n",
      "Topic 9: \n",
      "node prop user request org model java respons list http field token react state array com form compon map springframework\n",
      "Topic 10: \n",
      "model train layer shape user expect size imag loss batch label tensor input torch color num axi dtype predict grad\n",
      "Topic 11: \n",
      "event http server request socket state size respons header stream buf expect handler buffer prop null byte client port len\n",
      "Topic 12: \n",
      "event org model state element com class java util store train servic config android document action err listen batch user\n",
      "Topic 13: \n",
      "node layer requir train app webpack request model shape req modul imag loss export batch rout plugin respons config await\n",
      "Topic 14: \n",
      "state store action dispatch hlj view token app window histori url foo reduc buf len editor xct null router event\n",
      "Topic 15: \n",
      "hlj begin class keyword train html ion android relev prop layer ditto comment com shape tag end react util loss\n",
      "Topic 16: \n",
      "icon node xct gulp url list dir imag item btn app root expect train button task link endif await project\n",
      "Topic 17: \n",
      "endif cmake dir target event element librari url project xct prop react sourc compon packag command token instal view repo\n",
      "Topic 18: \n",
      "xct hlj promis user observ await result field option messag queue object cgfloat node schema imag anim schedul int task\n",
      "Topic 19: \n",
      "app chart state color servic node line hlj config command width option assert endif store axi height repo env rout\n",
      "Topic 20: \n",
      "config plugin webpack field vue view modul asset qunit http control anim rule date scope conn element rout env compon\n",
      "Topic 21: \n",
      "endif cmake option librari btn target field req modul form compon icon rout conn ion view includ vue router app\n",
      "Topic 22: \n",
      "icon token xct option ast imag rule train observ btn control input label handler symfoni context select express class foo\n",
      "Topic 23: \n",
      "state endif store cmake gulp request url task err action length librari target respons jqueri prototyp dispatch http grunt queri\n",
      "Topic 24: \n",
      "icon user event token gulp app modul requir style req xct observ export element qunit pipe color svg expect rule\n",
      "Topic 25: \n",
      "token await endif cmake user compon org promis repo server async page modul springframework entiti librari sqlite requir messag err\n",
      "Topic 26: \n",
      "vue app icon rout compon vnode repo xct page await router chart url promis tag modul date ctx attr val\n",
      "Topic 27: \n",
      "user repo option vnode url imag render node task grunt spi commit android anim opt prop tag conn xct attr\n",
      "Topic 28: \n",
      "icon await queri jqueri config qunit conn elem client view server schema item svg unit async messag attr anim node\n",
      "Topic 29: \n",
      "gulp token await task prop android grunt repo ion grid config jqueri illumin sqlite queri btn chart packag request context\n"
     ]
    }
   ],
   "source": [
    "terms = tfidf_vect.get_feature_names()\n",
    "\n",
    "for i, comp in enumerate(svd_model.components_):\n",
    "    terms_comp = zip(terms, comp)\n",
    "    sorted_terms = sorted(terms_comp, key= lambda x:x[1], reverse=True)[:20]\n",
    "    print(\"Topic \"+str(i)+\": \")\n",
    "    print(\" \".join([t[0] for t in sorted_terms]))"
   ]
  },
  {
   "cell_type": "code",
   "execution_count": 227,
   "metadata": {},
   "outputs": [
    {
     "data": {
      "image/png": "[encoded data removed]",
      "text/plain": [
       "<matplotlib.figure.Figure at 0x14a0f8908>"
      ]
     },
     "metadata": {},
     "output_type": "display_data"
    }
   ],
   "source": [
    "import umap.umap_ as umap\n",
    "X_topics = svd_model.fit_transform(X)\n",
    "embedding = umap.UMAP(n_neighbors=150, min_dist=0.5, random_state=12).fit_transform(X_topics)\n",
    "\n",
    "plt.figure(figsize=(7,5))\n",
    "plt.scatter(embedding[:, 0], embedding[:, 1], \n",
    "#c = dataset.target,\n",
    "s = 10, # size\n",
    "edgecolor='none'\n",
    ")\n",
    "plt.show()"
   ]
  },
  {
   "cell_type": "code",
   "execution_count": null,
   "metadata": {},
   "outputs": [],
   "source": []
  },
  {
   "cell_type": "markdown",
   "metadata": {},
   "source": [
    "#### LSI Method"
   ]
  },
  {
   "cell_type": "code",
   "execution_count": 164,
   "metadata": {},
   "outputs": [],
   "source": [
    "def get_doc_list(doc_col):\n",
    "    texts = []\n",
    "    for doc in doc_col:\n",
    "        tokens = tokenizer.tokenize(doc)\n",
    "        texts.append(tokens)\n",
    "    return texts"
   ]
  },
  {
   "cell_type": "code",
   "execution_count": 165,
   "metadata": {},
   "outputs": [],
   "source": [
    "def prepare_corpus(doc_clean):\n",
    "    \"\"\"\n",
    "    Input  : clean document\n",
    "    Purpose: create term dictionary of our courpus and Converting list of documents (corpus) into Document Term Matrix\n",
    "    Output : term dictionary and Document Term Matrix\n",
    "    \"\"\"\n",
    "    # Creating the term dictionary of our courpus, where every unique term is assigned an index. dictionary = corpora.Dictionary(doc_clean)\n",
    "    dictionary = corpora.Dictionary(doc_clean)\n",
    "    # Converting list of documents (corpus) into Document Term Matrix using dictionary prepared above.\n",
    "    doc_term_matrix = [dictionary.doc2bow(doc) for doc in doc_clean]\n",
    "    # generate LDA model\n",
    "    return dictionary,doc_term_matrix"
   ]
  },
  {
   "cell_type": "code",
   "execution_count": 166,
   "metadata": {},
   "outputs": [],
   "source": [
    "# Create LSA model\n",
    "\n",
    "def create_gensim_lsa_model(doc_clean,number_of_topics,words):\n",
    "    \"\"\"\n",
    "    Input  : clean document, number of topics and number of words associated with each topic\n",
    "    Purpose: create LSA model using gensim\n",
    "    Output : return LSA model\n",
    "    \"\"\"\n",
    "    dictionary,doc_term_matrix=prepare_corpus(doc_clean)\n",
    "    # generate LSA model\n",
    "    lsamodel = LsiModel(doc_term_matrix, num_topics=number_of_topics, id2word = dictionary)  # train model\n",
    "    print(lsamodel.print_topics(num_topics=number_of_topics, num_words=words))\n",
    "    return lsamodel"
   ]
  },
  {
   "cell_type": "code",
   "execution_count": 167,
   "metadata": {},
   "outputs": [],
   "source": [
    "def compute_coherence_values(dictionary, doc_term_matrix, doc_clean, stop, start=2, step=3):\n",
    "    \"\"\"\n",
    "    Input   : dictionary : Gensim dictionary\n",
    "              corpus : Gensim corpus\n",
    "              texts : List of input texts\n",
    "              stop : Max num of topics\n",
    "    purpose : Compute c_v coherence for various number of topics\n",
    "    Output  : model_list : List of LSA topic models\n",
    "              coherence_values : Coherence values corresponding to the LDA model with respective number of topics\n",
    "    \"\"\"\n",
    "    coherence_values = []\n",
    "    model_list = []\n",
    "    for num_topics in range(start, stop, step):\n",
    "        # generate LSA model\n",
    "        model = LsiModel(doc_term_matrix, num_topics=num_topics, id2word = dictionary)  # train model\n",
    "        model_list.append(model)\n",
    "        coherencemodel = CoherenceModel(model=model, texts=doc_clean, dictionary=dictionary, coherence='c_v')\n",
    "        coherence_values.append(coherencemodel.get_coherence())\n",
    "    return model_list, coherence_values"
   ]
  },
  {
   "cell_type": "code",
   "execution_count": 168,
   "metadata": {},
   "outputs": [],
   "source": [
    "def plot_graph(doc_clean,start, stop, step):\n",
    "    dictionary,doc_term_matrix=prepare_corpus(doc_clean)\n",
    "    model_list, coherence_values = compute_coherence_values(dictionary, doc_term_matrix,doc_clean,\n",
    "                                                            stop, start, step)\n",
    "    # Show graph\n",
    "    x = range(start, stop, step)\n",
    "    plt.plot(x, coherence_values)\n",
    "    plt.xlabel(\"Number of Topics\")\n",
    "    plt.ylabel(\"Coherence score\")\n",
    "    plt.legend((\"coherence_values\"), loc='best')\n",
    "    plt.show()"
   ]
  },
  {
   "cell_type": "code",
   "execution_count": 169,
   "metadata": {},
   "outputs": [],
   "source": [
    "clean_text = get_doc_list(tn_data['stemmed_name'])"
   ]
  },
  {
   "cell_type": "code",
   "execution_count": 170,
   "metadata": {},
   "outputs": [
    {
     "data": {
      "image/png": "[encoded data removed]",
      "text/plain": [
       "<matplotlib.figure.Figure at 0x110d4f2b0>"
      ]
     },
     "metadata": {},
     "output_type": "display_data"
    }
   ],
   "source": [
    "start,stop,step=2,25,1\n",
    "plot_graph(clean_text,start,stop,step)\n"
   ]
  },
  {
   "cell_type": "code",
   "execution_count": null,
   "metadata": {},
   "outputs": [],
   "source": []
  },
  {
   "cell_type": "code",
   "execution_count": null,
   "metadata": {},
   "outputs": [],
   "source": []
  },
  {
   "cell_type": "code",
   "execution_count": null,
   "metadata": {},
   "outputs": [],
   "source": []
  },
  {
   "cell_type": "code",
   "execution_count": null,
   "metadata": {},
   "outputs": [],
   "source": []
  },
  {
   "cell_type": "code",
   "execution_count": null,
   "metadata": {},
   "outputs": [],
   "source": []
  },
  {
   "cell_type": "code",
   "execution_count": null,
   "metadata": {},
   "outputs": [],
   "source": []
  },
  {
   "cell_type": "code",
   "execution_count": null,
   "metadata": {},
   "outputs": [],
   "source": []
  },
  {
   "cell_type": "code",
   "execution_count": null,
   "metadata": {},
   "outputs": [],
   "source": []
  },
  {
   "cell_type": "code",
   "execution_count": null,
   "metadata": {},
   "outputs": [],
   "source": []
  },
  {
   "cell_type": "code",
   "execution_count": null,
   "metadata": {},
   "outputs": [],
   "source": []
  },
  {
   "cell_type": "code",
   "execution_count": null,
   "metadata": {},
   "outputs": [],
   "source": []
  },
  {
   "cell_type": "code",
   "execution_count": 103,
   "metadata": {},
   "outputs": [],
   "source": []
  }
 ],
 "metadata": {
  "kernelspec": {
   "display_name": "Python 3",
   "language": "python",
   "name": "python3"
  },
  "language_info": {
   "codemirror_mode": {
    "name": "ipython",
    "version": 3
   },
   "file_extension": ".py",
   "mimetype": "text/x-python",
   "name": "python",
   "nbconvert_exporter": "python",
   "pygments_lexer": "ipython3",
   "version": "3.6.5"
  }
 },
 "nbformat": 4,
 "nbformat_minor": 2
}
